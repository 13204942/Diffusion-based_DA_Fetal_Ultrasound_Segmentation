{
  "cells": [
    {
      "cell_type": "code",
      "execution_count": null,
      "id": "initial_id",
      "metadata": {
        "colab": {
          "base_uri": "https://localhost:8080/"
        },
        "collapsed": true,
        "id": "initial_id",
        "outputId": "fc26b2f6-4933-4efc-aee7-5657ab381a92"
      },
      "outputs": [],
      "source": [
        "import monai\n",
        "monai.__version__"
      ]
    },
    {
      "cell_type": "markdown",
      "id": "98622a97",
      "metadata": {},
      "source": [
        "## HC18 Data for Traning"
      ]
    },
    {
      "cell_type": "code",
      "execution_count": null,
      "id": "70028d4c",
      "metadata": {},
      "outputs": [],
      "source": [
        "!cd /mnt/storage/fangyijie/HC18/image && ls -1 | wc -l"
      ]
    },
    {
      "cell_type": "markdown",
      "id": "m3_6akg4ML_X",
      "metadata": {
        "id": "m3_6akg4ML_X"
      },
      "source": [
        "## Spanish Data for Training"
      ]
    },
    {
      "cell_type": "code",
      "execution_count": null,
      "id": "CSzLLyJcMU3S",
      "metadata": {
        "colab": {
          "base_uri": "https://localhost:8080/"
        },
        "id": "CSzLLyJcMU3S",
        "outputId": "d4d1e6a6-2c8c-4e32-f17b-2cd272c3bbd6"
      },
      "outputs": [],
      "source": [
        "!cd /mnt/storage/fangyijie/ft_sam/sp_head_train/image && ls -1 | wc -l"
      ]
    },
    {
      "cell_type": "code",
      "execution_count": null,
      "id": "aec2250d",
      "metadata": {},
      "outputs": [],
      "source": [
        "!cd /mnt/storage/fangyijie/ft_sam/sp_head_train/mask && ls -1 | wc -l"
      ]
    },
    {
      "cell_type": "markdown",
      "id": "17MkFCV3GbVA",
      "metadata": {
        "id": "17MkFCV3GbVA"
      },
      "source": [
        "## Synthetic Data for Training"
      ]
    },
    {
      "cell_type": "code",
      "execution_count": null,
      "id": "TtKTv5Z6FCi1",
      "metadata": {
        "id": "TtKTv5Z6FCi1"
      },
      "outputs": [],
      "source": [
        "!unzip -q /content/drive/MyDrive/Ultrasound_project/synth_image_gdrive.zip"
      ]
    },
    {
      "cell_type": "code",
      "execution_count": null,
      "id": "tabaKXniKhUA",
      "metadata": {
        "colab": {
          "base_uri": "https://localhost:8080/"
        },
        "id": "tabaKXniKhUA",
        "outputId": "a4b90fc7-f83b-479d-931c-c2e0c4d5f2f3"
      },
      "outputs": [],
      "source": [
        "!cd synth_image_gdrive/image && ls -1 | wc -l"
      ]
    },
    {
      "cell_type": "markdown",
      "id": "0CsWBFElLagz",
      "metadata": {
        "id": "0CsWBFElLagz"
      },
      "source": [
        "## Spanish Data for Validation/Testing"
      ]
    },
    {
      "cell_type": "code",
      "execution_count": null,
      "id": "Yp6bcDqfkO0N",
      "metadata": {
        "id": "Yp6bcDqfkO0N"
      },
      "outputs": [],
      "source": [
        "!cd /mnt/storage/fangyijie/ft_sam/sp_head_test/image && ls -1 | wc -l"
      ]
    },
    {
      "cell_type": "code",
      "execution_count": null,
      "id": "6b3cbfdf",
      "metadata": {},
      "outputs": [],
      "source": [
        "!cd /mnt/storage/fangyijie/ft_sam/sp_head_test/mask && ls -1 | wc -l"
      ]
    },
    {
      "cell_type": "markdown",
      "id": "c9c666ed",
      "metadata": {},
      "source": [
        "## African Data for Validation/Testing"
      ]
    },
    {
      "cell_type": "code",
      "execution_count": null,
      "id": "19900ab0",
      "metadata": {},
      "outputs": [],
      "source": [
        "!cd /mnt/storage/fangyijie/ft_sam/af_head/image && ls -1 | wc -l"
      ]
    },
    {
      "cell_type": "code",
      "execution_count": null,
      "id": "42b72a94",
      "metadata": {},
      "outputs": [],
      "source": [
        "!cd /mnt/storage/fangyijie/ft_sam/af_head/mask && ls -1 | wc -l"
      ]
    },
    {
      "cell_type": "markdown",
      "id": "8c05ff61",
      "metadata": {},
      "source": [
        "## Test HC18 Data"
      ]
    },
    {
      "cell_type": "code",
      "execution_count": null,
      "id": "9ca8fc90",
      "metadata": {},
      "outputs": [],
      "source": [
        "!python /content/drive/MyDrive/Ultrasound_project/ftsam_code/eval_af.py \\\n",
        "  --model ftsam \\\n",
        "  --checkpoint /content/drive/MyDrive/Ultrasound_project/checkpoints/ft_sam_new_ES/onlyreal/checkpoint_FTSAM_epoch_19_BS_4_TRAINSIZE_300_Real_20250122-131943"
      ]
    },
    {
      "cell_type": "markdown",
      "id": "YfJOk0XqR6YD",
      "metadata": {
        "id": "YfJOk0XqR6YD"
      },
      "source": [
        "## Test African Data"
      ]
    },
    {
      "cell_type": "code",
      "execution_count": 21,
      "id": "Z3e2_6JgRnT1",
      "metadata": {
        "colab": {
          "base_uri": "https://localhost:8080/"
        },
        "id": "Z3e2_6JgRnT1",
        "outputId": "bf164ce9-801f-4c75-e5b8-ee5186bcf52a"
      },
      "outputs": [
        {
          "name": "stdout",
          "output_type": "stream",
          "text": [
            "Evaluating model for iteration 0...\n",
            "Processing sample 100/125\n",
            "Average DSC: 0.9461814782262686\n",
            "Evaluating model for iteration 1...\n",
            "Processing sample 100/125\n",
            "Average DSC: 0.9462656187324056\n",
            "Evaluating model for iteration 2...\n",
            "Processing sample 100/125\n",
            "Average DSC: 0.9454912374459842\n",
            "Evaluating model for iteration 3...\n",
            "Processing sample 100/125\n",
            "Average DSC: 0.9457211729605967\n",
            "Evaluating model for iteration 4...\n",
            "Processing sample 100/125\n",
            "Average DSC: 0.9452771827525256\n"
          ]
        }
      ],
      "source": [
        "!python /home/fangyijie/ft_sam/code/src/eval_af.py \\\n",
        "  --root_dir '/mnt/storage/fangyijie/ft_sam' \\\n",
        "  --model ftsam \\\n",
        "  --eval_iter 5 \\\n",
        "  --save_fig False \\\n",
        "  --img_dir 'af_head' \\\n",
        "  --logs_dir 'head/SP/SA' \\\n",
        "  --debug \\\n",
        "  --checkpoint /mnt/storage/fangyijie/ft_sam/checkpoints_head/ESTT/SA/checkpoint_FTSAM_epoch_15_BS_5_TRAINSIZE_500_Real_20250522-141021"
      ]
    },
    {
      "cell_type": "markdown",
      "id": "5Q5-Ns7RR8aE",
      "metadata": {
        "id": "5Q5-Ns7RR8aE"
      },
      "source": [
        "## Test Spainish Data"
      ]
    },
    {
      "cell_type": "code",
      "execution_count": 22,
      "id": "kSSlfWx4f00-",
      "metadata": {
        "colab": {
          "base_uri": "https://localhost:8080/"
        },
        "id": "kSSlfWx4f00-",
        "outputId": "76ebf2bc-0f13-4e95-91fd-26cacfc39d34"
      },
      "outputs": [
        {
          "name": "stdout",
          "output_type": "stream",
          "text": [
            "Evaluating model for iteration 0...\n",
            "Processing sample 100/597\n",
            "Processing sample 200/597\n",
            "Processing sample 300/597\n",
            "Processing sample 400/597\n",
            "Processing sample 500/597\n",
            "Average DSC: 0.9423729792121006\n",
            "Evaluating model for iteration 1...\n",
            "Processing sample 100/597\n",
            "Processing sample 200/597\n",
            "Processing sample 300/597\n",
            "Processing sample 400/597\n",
            "Processing sample 500/597\n",
            "Average DSC: 0.9426449862111013\n",
            "Evaluating model for iteration 2...\n",
            "Processing sample 100/597\n",
            "Processing sample 200/597\n",
            "Processing sample 300/597\n",
            "Processing sample 400/597\n",
            "Processing sample 500/597\n",
            "Average DSC: 0.9423946345526342\n",
            "Evaluating model for iteration 3...\n",
            "Processing sample 100/597\n",
            "Processing sample 200/597\n",
            "Processing sample 300/597\n",
            "Processing sample 400/597\n",
            "Processing sample 500/597\n",
            "Average DSC: 0.9430367279454842\n",
            "Evaluating model for iteration 4...\n",
            "Processing sample 100/597\n",
            "Processing sample 200/597\n",
            "Processing sample 300/597\n",
            "Processing sample 400/597\n",
            "Processing sample 500/597\n",
            "Average DSC: 0.9423839115596782\n"
          ]
        }
      ],
      "source": [
        "!python /home/fangyijie/ft_sam/code/src/eval_sp.py \\\n",
        "  --root_dir '/mnt/storage/fangyijie/ft_sam' \\\n",
        "  --model ftsam \\\n",
        "  --eval_iter 5 \\\n",
        "  --save_fig False \\\n",
        "  --img_dir 'sp_head_test' \\\n",
        "  --logs_dir 'head/SP/SA' \\\n",
        "  --debug \\\n",
        "  --checkpoint /mnt/storage/fangyijie/ft_sam/checkpoints_head/ESTT/SA/checkpoint_FTSAM_epoch_15_BS_5_TRAINSIZE_500_Real_20250522-141021"
      ]
    },
    {
      "cell_type": "markdown",
      "id": "HzjW0nmtSH-u",
      "metadata": {
        "id": "HzjW0nmtSH-u"
      },
      "source": [
        "## Fine-tuning SAM"
      ]
    },
    {
      "cell_type": "code",
      "execution_count": null,
      "id": "b9Jw-qS8anzk",
      "metadata": {
        "id": "b9Jw-qS8anzk"
      },
      "outputs": [],
      "source": [
        "!python /home/fangyijie/ft_sam/code/src/ft_sam_ESTT.py \\\n",
        "  --root_dir '/mnt/storage/fangyijie/ft_sam' \\\n",
        "  --train_size 500 \\\n",
        "  --num_epochs 20 \\\n",
        "  --batch_size 5 \\\n",
        "  --syn_size 0 \\\n",
        "  --image_size 256 \\\n",
        "  --data_agumentation 'SA'"
      ]
    },
    {
      "cell_type": "code",
      "execution_count": null,
      "id": "5495850c",
      "metadata": {},
      "outputs": [],
      "source": []
    }
  ],
  "metadata": {
    "accelerator": "GPU",
    "colab": {
      "collapsed_sections": [
        "RxFNMmoTLWfD",
        "JJf8cTtJqLFR"
      ],
      "gpuType": "T4",
      "provenance": []
    },
    "kernelspec": {
      "display_name": "sam_env",
      "language": "python",
      "name": "python3"
    },
    "language_info": {
      "codemirror_mode": {
        "name": "ipython",
        "version": 3
      },
      "file_extension": ".py",
      "mimetype": "text/x-python",
      "name": "python",
      "nbconvert_exporter": "python",
      "pygments_lexer": "ipython3",
      "version": "3.11.5"
    }
  },
  "nbformat": 4,
  "nbformat_minor": 5
}
